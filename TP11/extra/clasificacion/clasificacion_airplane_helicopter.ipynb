{
  "nbformat": 4,
  "nbformat_minor": 0,
  "metadata": {
    "colab": {
      "name": "clasificacion_airplane_helicopter.ipynb",
      "provenance": []
    },
    "kernelspec": {
      "name": "python3",
      "display_name": "Python 3"
    },
    "accelerator": "GPU"
  },
  "cells": [
    {
      "cell_type": "code",
      "metadata": {
        "id": "pfZginAPeSzL",
        "colab_type": "code",
        "outputId": "5993d130-cc2b-4329-a92a-f80a404043f6",
        "colab": {
          "base_uri": "https://localhost:8080/",
          "height": 54
        }
      },
      "source": [
        "from google.colab import drive\n",
        "drive.mount('/content/drive')\n"
      ],
      "execution_count": 55,
      "outputs": [
        {
          "output_type": "stream",
          "text": [
            "Drive already mounted at /content/drive; to attempt to forcibly remount, call drive.mount(\"/content/drive\", force_remount=True).\n"
          ],
          "name": "stdout"
        }
      ]
    },
    {
      "cell_type": "code",
      "metadata": {
        "id": "g2juY2zNj0HL",
        "colab_type": "code",
        "colab": {}
      },
      "source": [
        "import tensorflow as tf\n",
        "from tensorflow.keras.preprocessing.image import ImageDataGenerator"
      ],
      "execution_count": 0,
      "outputs": []
    },
    {
      "cell_type": "code",
      "metadata": {
        "id": "qMaRYsCxl5u_",
        "colab_type": "code",
        "colab": {}
      },
      "source": [
        "#!unzip \"/content/drive/My Drive/colab/dataset.zip\""
      ],
      "execution_count": 0,
      "outputs": []
    },
    {
      "cell_type": "code",
      "metadata": {
        "id": "22WHfxS3lYvS",
        "colab_type": "code",
        "colab": {
          "base_uri": "https://localhost:8080/",
          "height": 51
        },
        "outputId": "92b5333e-b2ad-4f35-dcc8-ae3b51e62520"
      },
      "source": [
        "train_datagen = ImageDataGenerator(rescale = 1./255,\n",
        "shear_range = 0.2,\n",
        "zoom_range = 0.2,\n",
        "horizontal_flip = True)\n",
        "test_datagen = ImageDataGenerator(rescale = 1./255)\n",
        "training_set = train_datagen.flow_from_directory('/content/dataset/train',\n",
        "target_size = (64, 64),\n",
        "batch_size = 32,\n",
        "class_mode = 'binary')\n",
        "test_set = test_datagen.flow_from_directory('/content/dataset/test',\n",
        "target_size = (64, 64),\n",
        "batch_size = 32,\n",
        "class_mode = 'binary')"
      ],
      "execution_count": 58,
      "outputs": [
        {
          "output_type": "stream",
          "text": [
            "Found 159 images belonging to 2 classes.\n",
            "Found 18 images belonging to 2 classes.\n"
          ],
          "name": "stdout"
        }
      ]
    },
    {
      "cell_type": "code",
      "metadata": {
        "id": "SiSA6JpDPdZc",
        "colab_type": "code",
        "colab": {}
      },
      "source": [
        "import tensorflow as tf                                                         \n",
        "                                                                                \n",
        "mnist = tf.keras.datasets.mnist                                                 \n",
        "                                                                                \n",
        "#(x_train, y_train), (x_test, y_test) = mnist.load_data()                        \n",
        "#x_train, x_test = x_train / 255.0, x_test / 255.0                               \n",
        "                                                                                \n",
        "#ts = x_train.shape                                                              \n",
        "#x_train = x_train.reshape(ts[0], ts[1], ts[2], 1)                               \n",
        "#tt = x_test.shape                                                               \n",
        "#x_test = x_test.reshape(tt[0], tt[1], tt[2], 1)                                 \n",
        "                                                                                \n",
        "model = tf.keras.models.Sequential([            \n",
        "  tf.keras.layers.experimental.preprocessing.Resizing(64, 64,\n",
        "                                                      interpolation='bilinear'),                          \n",
        "  tf.keras.layers.Conv2D(6, (6, 6), activation='relu',                          \n",
        "                         input_shape=(64, 64, 3)),                              \n",
        "  tf.keras.layers.Conv2D(12, (5, 5), strides=(2, 2), activation='relu'),        \n",
        "  tf.keras.layers.Conv2D(24, (4, 4), strides=(2, 2), activation='relu'),        \n",
        "  tf.keras.layers.Flatten(),                                                    \n",
        "  tf.keras.layers.Dropout(rate=.25),                                            \n",
        "  tf.keras.layers.Dense(200, activation='relu'),                                \n",
        "  tf.keras.layers.Dense(2, activation='softmax')                               \n",
        "])                                                                              \n",
        "                                                                                \n",
        "optimizer = tf.keras.optimizers.Adam(decay=.0001)                               \n",
        "                                                                                \n",
        "model.compile(optimizer=optimizer,                                              \n",
        "              loss='sparse_categorical_crossentropy',                           \n",
        "              metrics=['accuracy'])                                             \n",
        "                                                                                \n",
        "#model.fit(x_train, y_train, epochs=5)\n",
        "\n",
        "#model.evaluate(x_test, y_test) "
      ],
      "execution_count": 0,
      "outputs": []
    },
    {
      "cell_type": "code",
      "metadata": {
        "id": "JKZOeSHonjN3",
        "colab_type": "code",
        "colab": {
          "base_uri": "https://localhost:8080/",
          "height": 884
        },
        "outputId": "473de689-531b-4c1e-ed8e-112a79964d41"
      },
      "source": [
        "model.fit(training_set,\n",
        "          epochs = 25)"
      ],
      "execution_count": 60,
      "outputs": [
        {
          "output_type": "stream",
          "text": [
            "Epoch 1/25\n",
            "5/5 [==============================] - 0s 70ms/step - loss: 0.6937 - accuracy: 0.5409\n",
            "Epoch 2/25\n",
            "5/5 [==============================] - 0s 70ms/step - loss: 0.6073 - accuracy: 0.7673\n",
            "Epoch 3/25\n",
            "5/5 [==============================] - 0s 69ms/step - loss: 0.4098 - accuracy: 0.8302\n",
            "Epoch 4/25\n",
            "5/5 [==============================] - 0s 68ms/step - loss: 0.3905 - accuracy: 0.8302\n",
            "Epoch 5/25\n",
            "5/5 [==============================] - 0s 70ms/step - loss: 0.3158 - accuracy: 0.8742\n",
            "Epoch 6/25\n",
            "5/5 [==============================] - 0s 67ms/step - loss: 0.2081 - accuracy: 0.9434\n",
            "Epoch 7/25\n",
            "5/5 [==============================] - 0s 66ms/step - loss: 0.1815 - accuracy: 0.9560\n",
            "Epoch 8/25\n",
            "5/5 [==============================] - 0s 70ms/step - loss: 0.2390 - accuracy: 0.9119\n",
            "Epoch 9/25\n",
            "5/5 [==============================] - 0s 70ms/step - loss: 0.1593 - accuracy: 0.9371\n",
            "Epoch 10/25\n",
            "5/5 [==============================] - 0s 68ms/step - loss: 0.1494 - accuracy: 0.9308\n",
            "Epoch 11/25\n",
            "5/5 [==============================] - 0s 67ms/step - loss: 0.1568 - accuracy: 0.9560\n",
            "Epoch 12/25\n",
            "5/5 [==============================] - 0s 69ms/step - loss: 0.1604 - accuracy: 0.9371\n",
            "Epoch 13/25\n",
            "5/5 [==============================] - 0s 67ms/step - loss: 0.1429 - accuracy: 0.9434\n",
            "Epoch 14/25\n",
            "5/5 [==============================] - 0s 66ms/step - loss: 0.1353 - accuracy: 0.9686\n",
            "Epoch 15/25\n",
            "5/5 [==============================] - 0s 68ms/step - loss: 0.1767 - accuracy: 0.9434\n",
            "Epoch 16/25\n",
            "5/5 [==============================] - 0s 65ms/step - loss: 0.2445 - accuracy: 0.9308\n",
            "Epoch 17/25\n",
            "5/5 [==============================] - 0s 67ms/step - loss: 0.2508 - accuracy: 0.9057\n",
            "Epoch 18/25\n",
            "5/5 [==============================] - 0s 68ms/step - loss: 0.1686 - accuracy: 0.9245\n",
            "Epoch 19/25\n",
            "5/5 [==============================] - 0s 67ms/step - loss: 0.1233 - accuracy: 0.9748\n",
            "Epoch 20/25\n",
            "5/5 [==============================] - 0s 68ms/step - loss: 0.1331 - accuracy: 0.9623\n",
            "Epoch 21/25\n",
            "5/5 [==============================] - 0s 68ms/step - loss: 0.1135 - accuracy: 0.9623\n",
            "Epoch 22/25\n",
            "5/5 [==============================] - 0s 66ms/step - loss: 0.0753 - accuracy: 0.9686\n",
            "Epoch 23/25\n",
            "5/5 [==============================] - 0s 66ms/step - loss: 0.1622 - accuracy: 0.9434\n",
            "Epoch 24/25\n",
            "5/5 [==============================] - 0s 67ms/step - loss: 0.1289 - accuracy: 0.9497\n",
            "Epoch 25/25\n",
            "5/5 [==============================] - 0s 71ms/step - loss: 0.1332 - accuracy: 0.9686\n"
          ],
          "name": "stdout"
        },
        {
          "output_type": "execute_result",
          "data": {
            "text/plain": [
              "<tensorflow.python.keras.callbacks.History at 0x7f55b901aba8>"
            ]
          },
          "metadata": {
            "tags": []
          },
          "execution_count": 60
        }
      ]
    },
    {
      "cell_type": "code",
      "metadata": {
        "id": "kU_aukkbsO55",
        "colab_type": "code",
        "colab": {
          "base_uri": "https://localhost:8080/",
          "height": 51
        },
        "outputId": "c53ddae5-4ab3-44e4-d873-916e278dbe42"
      },
      "source": [
        "model.evaluate(test_set)"
      ],
      "execution_count": 61,
      "outputs": [
        {
          "output_type": "stream",
          "text": [
            "1/1 [==============================] - 0s 1ms/step - loss: 0.0744 - accuracy: 1.0000\n"
          ],
          "name": "stdout"
        },
        {
          "output_type": "execute_result",
          "data": {
            "text/plain": [
              "[0.07435158640146255, 1.0]"
            ]
          },
          "metadata": {
            "tags": []
          },
          "execution_count": 61
        }
      ]
    },
    {
      "cell_type": "code",
      "metadata": {
        "id": "_BSp41oRs2R1",
        "colab_type": "code",
        "colab": {
          "base_uri": "https://localhost:8080/",
          "height": 119
        },
        "outputId": "a8649cbb-5ee5-435f-831a-42a7cae3b997"
      },
      "source": [
        "import numpy as np\n",
        "b = test_set.next()\n",
        "print(b[1][0:5])\n",
        "model.predict_proba(b[0][0:5])"
      ],
      "execution_count": 62,
      "outputs": [
        {
          "output_type": "stream",
          "text": [
            "[0. 0. 1. 1. 0.]\n"
          ],
          "name": "stdout"
        },
        {
          "output_type": "execute_result",
          "data": {
            "text/plain": [
              "array([[0.99536115, 0.0046389 ],\n",
              "       [0.9929046 , 0.00709538],\n",
              "       [0.06870146, 0.9312985 ],\n",
              "       [0.33260822, 0.6673918 ],\n",
              "       [0.9985421 , 0.00145789]], dtype=float32)"
            ]
          },
          "metadata": {
            "tags": []
          },
          "execution_count": 62
        }
      ]
    }
  ]
}